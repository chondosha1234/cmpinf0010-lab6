{
 "cells": [
  {
   "cell_type": "code",
   "execution_count": 2,
   "id": "95c85fa7-fb8b-4df9-ae14-b6a4e3e4b166",
   "metadata": {},
   "outputs": [
    {
     "name": "stdin",
     "output_type": "stream",
     "text": [
      "Enter your name:  Jonathan\n",
      "Enter a number:  5\n"
     ]
    },
    {
     "name": "stdout",
     "output_type": "stream",
     "text": [
      "The 5 letter of your name is:  t\n"
     ]
    }
   ],
   "source": [
    "\n",
    "name = input(\"Enter your name: \")\n",
    "number = int(input(\"Enter a number: \"))\n",
    "\n",
    "if number > len(name):\n",
    "    print(\"That number is bigger than the length of your name.\")\n",
    "    \n",
    "letter = name[number-1]\n",
    "\n",
    "print(\"The\", number, \"letter of your name is: \", letter)\n",
    "\n"
   ]
  },
  {
   "cell_type": "code",
   "execution_count": null,
   "id": "7fd18f47-3abf-4fe9-bca2-75bd8c611022",
   "metadata": {},
   "outputs": [],
   "source": []
  }
 ],
 "metadata": {
  "kernelspec": {
   "display_name": "Python 3 (ipykernel)",
   "language": "python",
   "name": "python3"
  },
  "language_info": {
   "codemirror_mode": {
    "name": "ipython",
    "version": 3
   },
   "file_extension": ".py",
   "mimetype": "text/x-python",
   "name": "python",
   "nbconvert_exporter": "python",
   "pygments_lexer": "ipython3",
   "version": "3.11.9"
  }
 },
 "nbformat": 4,
 "nbformat_minor": 5
}
